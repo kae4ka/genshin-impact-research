{
  "nbformat": 4,
  "nbformat_minor": 0,
  "metadata": {
    "colab": {
      "name": "genshin-impact-analysis.ipynb",
      "provenance": [],
      "authorship_tag": "ABX9TyMCPif0BDLxI04dJc5s0nh5"
    },
    "kernelspec": {
      "name": "python3",
      "display_name": "Python 3"
    },
    "language_info": {
      "name": "python"
    }
  },
  "cells": [
    {
      "cell_type": "markdown",
      "source": [
        "First of all, we need to download the dataset from Kaggle using Kaggle API. 👊"
      ],
      "metadata": {
        "id": "NI-Ai7MVW5zQ"
      }
    },
    {
      "cell_type": "code",
      "execution_count": null,
      "metadata": {
        "id": "4y-tLXfGwC6j"
      },
      "outputs": [],
      "source": [
        "import numpy as np\n",
        "import pandas as pd"
      ]
    },
    {
      "cell_type": "code",
      "source": [
        "# загрузка файла\n",
        "from google.colab import files\n",
        "files.upload()"
      ],
      "metadata": {
        "colab": {
          "resources": {
            "http://localhost:8080/nbextensions/google.colab/files.js": {
              "data": "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",
              "ok": true,
              "headers": [
                [
                  "content-type",
                  "application/javascript"
                ]
              ],
              "status": 200,
              "status_text": ""
            }
          },
          "base_uri": "https://localhost:8080/",
          "height": 56
        },
        "id": "9Lr_ino0wFeY",
        "outputId": "102b5467-c711-443e-dcbc-dbb746037f07"
      },
      "execution_count": 1,
      "outputs": [
        {
          "output_type": "display_data",
          "data": {
            "text/plain": [
              "<IPython.core.display.HTML object>"
            ],
            "text/html": [
              "\n",
              "     <input type=\"file\" id=\"files-dea9d218-146b-4785-a7b0-ae53937d9867\" name=\"files[]\" multiple disabled\n",
              "        style=\"border:none\" />\n",
              "     <output id=\"result-dea9d218-146b-4785-a7b0-ae53937d9867\">\n",
              "      Upload widget is only available when the cell has been executed in the\n",
              "      current browser session. Please rerun this cell to enable.\n",
              "      </output>\n",
              "      <script src=\"/nbextensions/google.colab/files.js\"></script> "
            ]
          },
          "metadata": {}
        },
        {
          "output_type": "execute_result",
          "data": {
            "text/plain": [
              "{}"
            ]
          },
          "metadata": {},
          "execution_count": 1
        }
      ]
    },
    {
      "cell_type": "code",
      "source": [
        "!pip install -q kaggle"
      ],
      "metadata": {
        "id": "BPAqBQCWwcFr"
      },
      "execution_count": null,
      "outputs": []
    },
    {
      "cell_type": "code",
      "source": [
        "!mkdir -p ~/.kaggle\n",
        "!cp kaggle.json ~/.kaggle/"
      ],
      "metadata": {
        "id": "9-ZXiQV9wjB2"
      },
      "execution_count": null,
      "outputs": []
    },
    {
      "cell_type": "code",
      "source": [
        "!kaggle datasets download -d sophiahealy/genshin-impact-character-data"
      ],
      "metadata": {
        "colab": {
          "base_uri": "https://localhost:8080/"
        },
        "id": "ZWz9msfIwlMd",
        "outputId": "60cc365b-37c4-4e81-fe0e-2d35ab46c6b8"
      },
      "execution_count": null,
      "outputs": [
        {
          "output_type": "stream",
          "name": "stdout",
          "text": [
            "Warning: Your Kaggle API key is readable by other users on this system! To fix this, you can run 'chmod 600 /root/.kaggle/kaggle.json'\n",
            "Downloading genshin-impact-character-data.zip to /content\n",
            "  0% 0.00/13.1k [00:00<?, ?B/s]\n",
            "100% 13.1k/13.1k [00:00<00:00, 8.10MB/s]\n"
          ]
        }
      ]
    },
    {
      "cell_type": "code",
      "source": [
        "!kaggle datasets list -s sophiahealy/genshin-impact-character-data"
      ],
      "metadata": {
        "colab": {
          "base_uri": "https://localhost:8080/"
        },
        "id": "274CY52Sw8oQ",
        "outputId": "ae741da3-60f8-41d7-d0c5-3432673d317b"
      },
      "execution_count": null,
      "outputs": [
        {
          "output_type": "stream",
          "name": "stdout",
          "text": [
            "Warning: Your Kaggle API key is readable by other users on this system! To fix this, you can run 'chmod 600 /root/.kaggle/kaggle.json'\n",
            "ref                                        title                          size  lastUpdated          downloadCount  voteCount  usabilityRating  \n",
            "-----------------------------------------  -----------------------------  ----  -------------------  -------------  ---------  ---------------  \n",
            "sophiahealy/genshin-impact-character-data  Genshin Impact Character Data  13KB  2022-08-05 23:58:26            311         46  1.0              \n"
          ]
        }
      ]
    },
    {
      "cell_type": "code",
      "source": [
        "!ls /content/"
      ],
      "metadata": {
        "colab": {
          "base_uri": "https://localhost:8080/"
        },
        "id": "N4d3K86SxCJG",
        "outputId": "c1e8bf3e-9e54-42e3-9b88-a278258722d7"
      },
      "execution_count": null,
      "outputs": [
        {
          "output_type": "stream",
          "name": "stdout",
          "text": [
            "genshin-impact-character-data.zip  kaggle.json\tsample_data\n"
          ]
        }
      ]
    },
    {
      "cell_type": "markdown",
      "source": [
        "After that, we can display our dataset and go searching for missing values. 📈"
      ],
      "metadata": {
        "id": "R_QQ7_2gXRSe"
      }
    },
    {
      "cell_type": "code",
      "source": [
        "!unzip genshin-impact-character-data.zip"
      ],
      "metadata": {
        "colab": {
          "base_uri": "https://localhost:8080/"
        },
        "id": "NK1WNEUzxRxh",
        "outputId": "39f196da-db3c-4de2-d190-084049d5d9ec"
      },
      "execution_count": null,
      "outputs": [
        {
          "output_type": "stream",
          "name": "stdout",
          "text": [
            "Archive:  genshin-impact-character-data.zip\n",
            "  inflating: genshin.csv             \n"
          ]
        }
      ]
    },
    {
      "cell_type": "code",
      "source": [
        "df = pd.read_csv('/content/genshin.csv')\n",
        "df.head()\n",
        "# df.to_csv('genshin_dataset.csv', sep='\\t')"
      ],
      "metadata": {
        "id": "LpCWPEq2xZ_j",
        "outputId": "c2d3a3ab-46a9-4563-d086-f5621c7c710f",
        "colab": {
          "base_uri": "https://localhost:8080/",
          "height": 421
        }
      },
      "execution_count": null,
      "outputs": [
        {
          "output_type": "execute_result",
          "data": {
            "text/plain": [
              "  character_name playable  rarity  vision     region          model  \\\n",
              "0         Albedo        Y     5.0     Geo  Mondstadt    Medium Male   \n",
              "1      Alhaitham        N     NaN  Dendro     Sumeru      Tall Male   \n",
              "2           Aloy        Y     5.0    Cryo        NaN  Medium Female   \n",
              "3          Amber        Y     4.0    Pyro  Mondstadt  Medium Female   \n",
              "4   Arataki Itto        Y     5.0     Geo    Inazuma      Tall Male   \n",
              "\n",
              "        constellation birthday                special_dish  \\\n",
              "0  Princeps Cretaceus     9/13              Woodland Dream   \n",
              "1                 NaN      NaN                         NaN   \n",
              "2         Nora Fortis      4/4                 Satiety Gel   \n",
              "3               Lepus     8/10  Outrider's Champion Steak!   \n",
              "4    Taurus Iracundus      6/1           Way of the Strong   \n",
              "\n",
              "           affiliation  ... special_2 special_3 special_4 special_5 special_6  \\\n",
              "0  Knights of Favonius  ...      7.2%     14.4%     14.4%     21.6%     28.8%   \n",
              "1                  NaN  ...       NaN       NaN       NaN       NaN       NaN   \n",
              "2    Wandering Heroine  ...      7.2%     14.4%     14.4%     21.6%     28.8%   \n",
              "3  Knights of Favonius  ...      6.0%     12.0%     12.0%     18.0%     24.0%   \n",
              "4         Arataki Gang  ...      4.8%      9.6%      9.6%     14.4%     19.2%   \n",
              "\n",
              "  Unnamed: 73 Unnamed: 74 Unnamed: 75 Unnamed: 76 Unnamed: 77  \n",
              "0         NaN         NaN         NaN         NaN         NaN  \n",
              "1         NaN         NaN         NaN         NaN         NaN  \n",
              "2         NaN         NaN         NaN         NaN         NaN  \n",
              "3         NaN         NaN         NaN         NaN         NaN  \n",
              "4         NaN         NaN         NaN         NaN         NaN  \n",
              "\n",
              "[5 rows x 78 columns]"
            ],
            "text/html": [
              "\n",
              "  <div id=\"df-b98de389-53e4-4fbd-a12b-547b7105f313\">\n",
              "    <div class=\"colab-df-container\">\n",
              "      <div>\n",
              "<style scoped>\n",
              "    .dataframe tbody tr th:only-of-type {\n",
              "        vertical-align: middle;\n",
              "    }\n",
              "\n",
              "    .dataframe tbody tr th {\n",
              "        vertical-align: top;\n",
              "    }\n",
              "\n",
              "    .dataframe thead th {\n",
              "        text-align: right;\n",
              "    }\n",
              "</style>\n",
              "<table border=\"1\" class=\"dataframe\">\n",
              "  <thead>\n",
              "    <tr style=\"text-align: right;\">\n",
              "      <th></th>\n",
              "      <th>character_name</th>\n",
              "      <th>playable</th>\n",
              "      <th>rarity</th>\n",
              "      <th>vision</th>\n",
              "      <th>region</th>\n",
              "      <th>model</th>\n",
              "      <th>constellation</th>\n",
              "      <th>birthday</th>\n",
              "      <th>special_dish</th>\n",
              "      <th>affiliation</th>\n",
              "      <th>...</th>\n",
              "      <th>special_2</th>\n",
              "      <th>special_3</th>\n",
              "      <th>special_4</th>\n",
              "      <th>special_5</th>\n",
              "      <th>special_6</th>\n",
              "      <th>Unnamed: 73</th>\n",
              "      <th>Unnamed: 74</th>\n",
              "      <th>Unnamed: 75</th>\n",
              "      <th>Unnamed: 76</th>\n",
              "      <th>Unnamed: 77</th>\n",
              "    </tr>\n",
              "  </thead>\n",
              "  <tbody>\n",
              "    <tr>\n",
              "      <th>0</th>\n",
              "      <td>Albedo</td>\n",
              "      <td>Y</td>\n",
              "      <td>5.0</td>\n",
              "      <td>Geo</td>\n",
              "      <td>Mondstadt</td>\n",
              "      <td>Medium Male</td>\n",
              "      <td>Princeps Cretaceus</td>\n",
              "      <td>9/13</td>\n",
              "      <td>Woodland Dream</td>\n",
              "      <td>Knights of Favonius</td>\n",
              "      <td>...</td>\n",
              "      <td>7.2%</td>\n",
              "      <td>14.4%</td>\n",
              "      <td>14.4%</td>\n",
              "      <td>21.6%</td>\n",
              "      <td>28.8%</td>\n",
              "      <td>NaN</td>\n",
              "      <td>NaN</td>\n",
              "      <td>NaN</td>\n",
              "      <td>NaN</td>\n",
              "      <td>NaN</td>\n",
              "    </tr>\n",
              "    <tr>\n",
              "      <th>1</th>\n",
              "      <td>Alhaitham</td>\n",
              "      <td>N</td>\n",
              "      <td>NaN</td>\n",
              "      <td>Dendro</td>\n",
              "      <td>Sumeru</td>\n",
              "      <td>Tall Male</td>\n",
              "      <td>NaN</td>\n",
              "      <td>NaN</td>\n",
              "      <td>NaN</td>\n",
              "      <td>NaN</td>\n",
              "      <td>...</td>\n",
              "      <td>NaN</td>\n",
              "      <td>NaN</td>\n",
              "      <td>NaN</td>\n",
              "      <td>NaN</td>\n",
              "      <td>NaN</td>\n",
              "      <td>NaN</td>\n",
              "      <td>NaN</td>\n",
              "      <td>NaN</td>\n",
              "      <td>NaN</td>\n",
              "      <td>NaN</td>\n",
              "    </tr>\n",
              "    <tr>\n",
              "      <th>2</th>\n",
              "      <td>Aloy</td>\n",
              "      <td>Y</td>\n",
              "      <td>5.0</td>\n",
              "      <td>Cryo</td>\n",
              "      <td>NaN</td>\n",
              "      <td>Medium Female</td>\n",
              "      <td>Nora Fortis</td>\n",
              "      <td>4/4</td>\n",
              "      <td>Satiety Gel</td>\n",
              "      <td>Wandering Heroine</td>\n",
              "      <td>...</td>\n",
              "      <td>7.2%</td>\n",
              "      <td>14.4%</td>\n",
              "      <td>14.4%</td>\n",
              "      <td>21.6%</td>\n",
              "      <td>28.8%</td>\n",
              "      <td>NaN</td>\n",
              "      <td>NaN</td>\n",
              "      <td>NaN</td>\n",
              "      <td>NaN</td>\n",
              "      <td>NaN</td>\n",
              "    </tr>\n",
              "    <tr>\n",
              "      <th>3</th>\n",
              "      <td>Amber</td>\n",
              "      <td>Y</td>\n",
              "      <td>4.0</td>\n",
              "      <td>Pyro</td>\n",
              "      <td>Mondstadt</td>\n",
              "      <td>Medium Female</td>\n",
              "      <td>Lepus</td>\n",
              "      <td>8/10</td>\n",
              "      <td>Outrider's Champion Steak!</td>\n",
              "      <td>Knights of Favonius</td>\n",
              "      <td>...</td>\n",
              "      <td>6.0%</td>\n",
              "      <td>12.0%</td>\n",
              "      <td>12.0%</td>\n",
              "      <td>18.0%</td>\n",
              "      <td>24.0%</td>\n",
              "      <td>NaN</td>\n",
              "      <td>NaN</td>\n",
              "      <td>NaN</td>\n",
              "      <td>NaN</td>\n",
              "      <td>NaN</td>\n",
              "    </tr>\n",
              "    <tr>\n",
              "      <th>4</th>\n",
              "      <td>Arataki Itto</td>\n",
              "      <td>Y</td>\n",
              "      <td>5.0</td>\n",
              "      <td>Geo</td>\n",
              "      <td>Inazuma</td>\n",
              "      <td>Tall Male</td>\n",
              "      <td>Taurus Iracundus</td>\n",
              "      <td>6/1</td>\n",
              "      <td>Way of the Strong</td>\n",
              "      <td>Arataki Gang</td>\n",
              "      <td>...</td>\n",
              "      <td>4.8%</td>\n",
              "      <td>9.6%</td>\n",
              "      <td>9.6%</td>\n",
              "      <td>14.4%</td>\n",
              "      <td>19.2%</td>\n",
              "      <td>NaN</td>\n",
              "      <td>NaN</td>\n",
              "      <td>NaN</td>\n",
              "      <td>NaN</td>\n",
              "      <td>NaN</td>\n",
              "    </tr>\n",
              "  </tbody>\n",
              "</table>\n",
              "<p>5 rows × 78 columns</p>\n",
              "</div>\n",
              "      <button class=\"colab-df-convert\" onclick=\"convertToInteractive('df-b98de389-53e4-4fbd-a12b-547b7105f313')\"\n",
              "              title=\"Convert this dataframe to an interactive table.\"\n",
              "              style=\"display:none;\">\n",
              "        \n",
              "  <svg xmlns=\"http://www.w3.org/2000/svg\" height=\"24px\"viewBox=\"0 0 24 24\"\n",
              "       width=\"24px\">\n",
              "    <path d=\"M0 0h24v24H0V0z\" fill=\"none\"/>\n",
              "    <path d=\"M18.56 5.44l.94 2.06.94-2.06 2.06-.94-2.06-.94-.94-2.06-.94 2.06-2.06.94zm-11 1L8.5 8.5l.94-2.06 2.06-.94-2.06-.94L8.5 2.5l-.94 2.06-2.06.94zm10 10l.94 2.06.94-2.06 2.06-.94-2.06-.94-.94-2.06-.94 2.06-2.06.94z\"/><path d=\"M17.41 7.96l-1.37-1.37c-.4-.4-.92-.59-1.43-.59-.52 0-1.04.2-1.43.59L10.3 9.45l-7.72 7.72c-.78.78-.78 2.05 0 2.83L4 21.41c.39.39.9.59 1.41.59.51 0 1.02-.2 1.41-.59l7.78-7.78 2.81-2.81c.8-.78.8-2.07 0-2.86zM5.41 20L4 18.59l7.72-7.72 1.47 1.35L5.41 20z\"/>\n",
              "  </svg>\n",
              "      </button>\n",
              "      \n",
              "  <style>\n",
              "    .colab-df-container {\n",
              "      display:flex;\n",
              "      flex-wrap:wrap;\n",
              "      gap: 12px;\n",
              "    }\n",
              "\n",
              "    .colab-df-convert {\n",
              "      background-color: #E8F0FE;\n",
              "      border: none;\n",
              "      border-radius: 50%;\n",
              "      cursor: pointer;\n",
              "      display: none;\n",
              "      fill: #1967D2;\n",
              "      height: 32px;\n",
              "      padding: 0 0 0 0;\n",
              "      width: 32px;\n",
              "    }\n",
              "\n",
              "    .colab-df-convert:hover {\n",
              "      background-color: #E2EBFA;\n",
              "      box-shadow: 0px 1px 2px rgba(60, 64, 67, 0.3), 0px 1px 3px 1px rgba(60, 64, 67, 0.15);\n",
              "      fill: #174EA6;\n",
              "    }\n",
              "\n",
              "    [theme=dark] .colab-df-convert {\n",
              "      background-color: #3B4455;\n",
              "      fill: #D2E3FC;\n",
              "    }\n",
              "\n",
              "    [theme=dark] .colab-df-convert:hover {\n",
              "      background-color: #434B5C;\n",
              "      box-shadow: 0px 1px 3px 1px rgba(0, 0, 0, 0.15);\n",
              "      filter: drop-shadow(0px 1px 2px rgba(0, 0, 0, 0.3));\n",
              "      fill: #FFFFFF;\n",
              "    }\n",
              "  </style>\n",
              "\n",
              "      <script>\n",
              "        const buttonEl =\n",
              "          document.querySelector('#df-b98de389-53e4-4fbd-a12b-547b7105f313 button.colab-df-convert');\n",
              "        buttonEl.style.display =\n",
              "          google.colab.kernel.accessAllowed ? 'block' : 'none';\n",
              "\n",
              "        async function convertToInteractive(key) {\n",
              "          const element = document.querySelector('#df-b98de389-53e4-4fbd-a12b-547b7105f313');\n",
              "          const dataTable =\n",
              "            await google.colab.kernel.invokeFunction('convertToInteractive',\n",
              "                                                     [key], {});\n",
              "          if (!dataTable) return;\n",
              "\n",
              "          const docLinkHtml = 'Like what you see? Visit the ' +\n",
              "            '<a target=\"_blank\" href=https://colab.research.google.com/notebooks/data_table.ipynb>data table notebook</a>'\n",
              "            + ' to learn more about interactive tables.';\n",
              "          element.innerHTML = '';\n",
              "          dataTable['output_type'] = 'display_data';\n",
              "          await google.colab.output.renderOutput(dataTable, element);\n",
              "          const docLink = document.createElement('div');\n",
              "          docLink.innerHTML = docLinkHtml;\n",
              "          element.appendChild(docLink);\n",
              "        }\n",
              "      </script>\n",
              "    </div>\n",
              "  </div>\n",
              "  "
            ]
          },
          "metadata": {},
          "execution_count": 67
        }
      ]
    },
    {
      "cell_type": "code",
      "source": [
        "import os  \n",
        "# os.makedirs('folder/subfolder', exist_ok=True)  \n",
        "# df.to_csv('folder/subfolder/genshin_dataset.csv')  \n",
        "\n",
        "os.getcwd()"
      ],
      "metadata": {
        "id": "e6MndLvhniKm",
        "colab": {
          "base_uri": "https://localhost:8080/",
          "height": 36
        },
        "outputId": "a6442233-81b8-40e1-d9da-0a1cd496c2d8"
      },
      "execution_count": null,
      "outputs": [
        {
          "output_type": "execute_result",
          "data": {
            "text/plain": [
              "'/content'"
            ],
            "application/vnd.google.colaboratory.intrinsic+json": {
              "type": "string"
            }
          },
          "metadata": {},
          "execution_count": 10
        }
      ]
    },
    {
      "cell_type": "code",
      "source": [
        "# the shape of the dataset\n",
        "df.shape"
      ],
      "metadata": {
        "colab": {
          "base_uri": "https://localhost:8080/"
        },
        "id": "7tKFpmgsaK0q",
        "outputId": "6ece7140-00ef-4870-e8ab-5ab9013257fc"
      },
      "execution_count": null,
      "outputs": [
        {
          "output_type": "execute_result",
          "data": {
            "text/plain": [
              "(66, 78)"
            ]
          },
          "metadata": {},
          "execution_count": 68
        }
      ]
    },
    {
      "cell_type": "code",
      "source": [
        "df.columns"
      ],
      "metadata": {
        "id": "mbWsWW4mxrzW",
        "colab": {
          "base_uri": "https://localhost:8080/"
        },
        "outputId": "64281fb6-fc5b-470b-ea00-37b4820e4217"
      },
      "execution_count": null,
      "outputs": [
        {
          "output_type": "execute_result",
          "data": {
            "text/plain": [
              "Index(['character_name', 'playable', 'rarity', 'vision', 'region', 'model',\n",
              "       'constellation', 'birthday', 'special_dish', 'affiliation', 'voice_eng',\n",
              "       'voice_cn', 'voice_jp', 'voice_kr', 'release_date', 'weapon_type',\n",
              "       'ascension', 'ascension_specialty', 'ascension_talent_mat',\n",
              "       'ascension_boss_mat', 'talent_book_1', 'talent_book_2', 'talent_book_3',\n",
              "       'talent_weekly', 'hp_90_90', 'atk_90_90', 'def_90_90', 'hp_80_90',\n",
              "       'atk_80_90', 'def_80_90', 'hp_80_80', 'atk_80_80', 'def_80_80',\n",
              "       'hp_70_80', 'atk_70_80', 'def_70_80', 'hp_70_70', 'atk_70_70',\n",
              "       'def_70_70', 'hp_60_70', 'atk_60_70', 'def_60_70', 'hp_60_60',\n",
              "       'atk_60_60', 'def_60_60', 'hp_50_60', 'atk_50_60', 'def_50_60',\n",
              "       'hp_50_50', 'atk_50_50', 'def_50_50', 'hp_40_50', 'atk_40_50',\n",
              "       'def_40_50', 'hp_40_40', 'atk_40_40', 'def_40_40', 'hp_20_40',\n",
              "       'atk_20_40', 'def_20_40', 'hp_20_20', 'atk_20_20', 'def_20_20',\n",
              "       'hp_1_20', 'atk_1_20', 'def_1_20', 'spsecial_0', 'special_1',\n",
              "       'special_2', 'special_3', 'special_4', 'special_5', 'special_6',\n",
              "       'Unnamed: 73', 'Unnamed: 74', 'Unnamed: 75', 'Unnamed: 76',\n",
              "       'Unnamed: 77'],\n",
              "      dtype='object')"
            ]
          },
          "metadata": {},
          "execution_count": 69
        }
      ]
    },
    {
      "cell_type": "code",
      "source": [
        "# drop non-playable characters\n",
        "df.drop(df.index[df['playable']=='N'], inplace=True)\n",
        "# drop the columns 'cause it contains the same values\n",
        "cols=['playable', 'special_dish', 'constellation']\n",
        "cols.extend(list(df.filter(regex='voice_')))\n",
        "df.drop(columns= cols, inplace=True)\n",
        "# return the new shape\n",
        "df.shape"
      ],
      "metadata": {
        "colab": {
          "base_uri": "https://localhost:8080/"
        },
        "id": "Kebqbkf5Ub0m",
        "outputId": "078882c3-05be-44a3-c37b-f4edd8d6ffdd"
      },
      "execution_count": null,
      "outputs": [
        {
          "output_type": "execute_result",
          "data": {
            "text/plain": [
              "(53, 71)"
            ]
          },
          "metadata": {},
          "execution_count": 70
        }
      ]
    },
    {
      "cell_type": "code",
      "source": [
        "# drop empty columns\n",
        "for column in df.columns:\n",
        "    # if sum of NaN values in column equals the amount of rows in dataset\n",
        "    if df[column].isna().sum() == len(df.index):\n",
        "        df.drop(columns=column, inplace=True)\n",
        "df.shape"
      ],
      "metadata": {
        "colab": {
          "base_uri": "https://localhost:8080/"
        },
        "id": "r4ySyA_xcYQd",
        "outputId": "3c7f387a-4d90-48db-ce8a-2c3eed8a5b26"
      },
      "execution_count": null,
      "outputs": [
        {
          "output_type": "execute_result",
          "data": {
            "text/plain": [
              "(53, 66)"
            ]
          },
          "metadata": {},
          "execution_count": 71
        }
      ]
    },
    {
      "cell_type": "code",
      "source": [
        "# how many NaN values the dataset has\n",
        "df.isna().sum().sum()"
      ],
      "metadata": {
        "colab": {
          "base_uri": "https://localhost:8080/"
        },
        "id": "kDizjxORVaH_",
        "outputId": "ed270325-aaee-4f8d-c985-dec4cefb2b3c"
      },
      "execution_count": null,
      "outputs": [
        {
          "output_type": "execute_result",
          "data": {
            "text/plain": [
              "128"
            ]
          },
          "metadata": {},
          "execution_count": 72
        }
      ]
    },
    {
      "cell_type": "code",
      "source": [
        "df = df.dropna()"
      ],
      "metadata": {
        "id": "_AMCg8oghhbc"
      },
      "execution_count": null,
      "outputs": []
    },
    {
      "cell_type": "code",
      "source": [
        "df.tail(3)"
      ],
      "metadata": {
        "colab": {
          "base_uri": "https://localhost:8080/",
          "height": 289
        },
        "id": "juRjVlpelaeC",
        "outputId": "0505de04-4579-4262-9bad-8f68253c6d4d"
      },
      "execution_count": null,
      "outputs": [
        {
          "output_type": "execute_result",
          "data": {
            "text/plain": [
              "   character_name  rarity vision   region          model birthday  \\\n",
              "62        Yoimiya     5.0   Pyro  Inazuma  Medium Female     6/21   \n",
              "63        Yun Jin     4.0    Geo    Liyue  Medium Female     5/21   \n",
              "64        Zhongli     5.0    Geo    Liyue      Tall Male    12/31   \n",
              "\n",
              "             affiliation release_date weapon_type        ascension  ...  \\\n",
              "62  Naganohara Fireworks    8/10/2021         Bow        CRIT Rate  ...   \n",
              "63   Yun-Han Opera House     1/5/2022     Polearm  Energy Recharge  ...   \n",
              "64          Liyue Harbor    12/1/2020     Polearm    Geo DMG Bonus  ...   \n",
              "\n",
              "   hp_1_20 atk_1_20 def_1_20 spsecial_0 special_1 special_2 special_3  \\\n",
              "62   791.0     25.0     48.0       0.0%      0.0%      4.8%      9.6%   \n",
              "63   894.0     16.0     62.0       0.0%      0.0%      6.7%     13.3%   \n",
              "64  1144.0     20.0     57.0       0.0%      0.0%      7.2%     14.4%   \n",
              "\n",
              "    special_4  special_5  special_6  \n",
              "62       9.6%      14.4%      19.2%  \n",
              "63      13.3%      20.0%      26.7%  \n",
              "64      14.4%      21.6%      28.8%  \n",
              "\n",
              "[3 rows x 66 columns]"
            ],
            "text/html": [
              "\n",
              "  <div id=\"df-da14eb13-279f-4682-a275-b6cb221522f7\">\n",
              "    <div class=\"colab-df-container\">\n",
              "      <div>\n",
              "<style scoped>\n",
              "    .dataframe tbody tr th:only-of-type {\n",
              "        vertical-align: middle;\n",
              "    }\n",
              "\n",
              "    .dataframe tbody tr th {\n",
              "        vertical-align: top;\n",
              "    }\n",
              "\n",
              "    .dataframe thead th {\n",
              "        text-align: right;\n",
              "    }\n",
              "</style>\n",
              "<table border=\"1\" class=\"dataframe\">\n",
              "  <thead>\n",
              "    <tr style=\"text-align: right;\">\n",
              "      <th></th>\n",
              "      <th>character_name</th>\n",
              "      <th>rarity</th>\n",
              "      <th>vision</th>\n",
              "      <th>region</th>\n",
              "      <th>model</th>\n",
              "      <th>birthday</th>\n",
              "      <th>affiliation</th>\n",
              "      <th>release_date</th>\n",
              "      <th>weapon_type</th>\n",
              "      <th>ascension</th>\n",
              "      <th>...</th>\n",
              "      <th>hp_1_20</th>\n",
              "      <th>atk_1_20</th>\n",
              "      <th>def_1_20</th>\n",
              "      <th>spsecial_0</th>\n",
              "      <th>special_1</th>\n",
              "      <th>special_2</th>\n",
              "      <th>special_3</th>\n",
              "      <th>special_4</th>\n",
              "      <th>special_5</th>\n",
              "      <th>special_6</th>\n",
              "    </tr>\n",
              "  </thead>\n",
              "  <tbody>\n",
              "    <tr>\n",
              "      <th>62</th>\n",
              "      <td>Yoimiya</td>\n",
              "      <td>5.0</td>\n",
              "      <td>Pyro</td>\n",
              "      <td>Inazuma</td>\n",
              "      <td>Medium Female</td>\n",
              "      <td>6/21</td>\n",
              "      <td>Naganohara Fireworks</td>\n",
              "      <td>8/10/2021</td>\n",
              "      <td>Bow</td>\n",
              "      <td>CRIT Rate</td>\n",
              "      <td>...</td>\n",
              "      <td>791.0</td>\n",
              "      <td>25.0</td>\n",
              "      <td>48.0</td>\n",
              "      <td>0.0%</td>\n",
              "      <td>0.0%</td>\n",
              "      <td>4.8%</td>\n",
              "      <td>9.6%</td>\n",
              "      <td>9.6%</td>\n",
              "      <td>14.4%</td>\n",
              "      <td>19.2%</td>\n",
              "    </tr>\n",
              "    <tr>\n",
              "      <th>63</th>\n",
              "      <td>Yun Jin</td>\n",
              "      <td>4.0</td>\n",
              "      <td>Geo</td>\n",
              "      <td>Liyue</td>\n",
              "      <td>Medium Female</td>\n",
              "      <td>5/21</td>\n",
              "      <td>Yun-Han Opera House</td>\n",
              "      <td>1/5/2022</td>\n",
              "      <td>Polearm</td>\n",
              "      <td>Energy Recharge</td>\n",
              "      <td>...</td>\n",
              "      <td>894.0</td>\n",
              "      <td>16.0</td>\n",
              "      <td>62.0</td>\n",
              "      <td>0.0%</td>\n",
              "      <td>0.0%</td>\n",
              "      <td>6.7%</td>\n",
              "      <td>13.3%</td>\n",
              "      <td>13.3%</td>\n",
              "      <td>20.0%</td>\n",
              "      <td>26.7%</td>\n",
              "    </tr>\n",
              "    <tr>\n",
              "      <th>64</th>\n",
              "      <td>Zhongli</td>\n",
              "      <td>5.0</td>\n",
              "      <td>Geo</td>\n",
              "      <td>Liyue</td>\n",
              "      <td>Tall Male</td>\n",
              "      <td>12/31</td>\n",
              "      <td>Liyue Harbor</td>\n",
              "      <td>12/1/2020</td>\n",
              "      <td>Polearm</td>\n",
              "      <td>Geo DMG Bonus</td>\n",
              "      <td>...</td>\n",
              "      <td>1144.0</td>\n",
              "      <td>20.0</td>\n",
              "      <td>57.0</td>\n",
              "      <td>0.0%</td>\n",
              "      <td>0.0%</td>\n",
              "      <td>7.2%</td>\n",
              "      <td>14.4%</td>\n",
              "      <td>14.4%</td>\n",
              "      <td>21.6%</td>\n",
              "      <td>28.8%</td>\n",
              "    </tr>\n",
              "  </tbody>\n",
              "</table>\n",
              "<p>3 rows × 66 columns</p>\n",
              "</div>\n",
              "      <button class=\"colab-df-convert\" onclick=\"convertToInteractive('df-da14eb13-279f-4682-a275-b6cb221522f7')\"\n",
              "              title=\"Convert this dataframe to an interactive table.\"\n",
              "              style=\"display:none;\">\n",
              "        \n",
              "  <svg xmlns=\"http://www.w3.org/2000/svg\" height=\"24px\"viewBox=\"0 0 24 24\"\n",
              "       width=\"24px\">\n",
              "    <path d=\"M0 0h24v24H0V0z\" fill=\"none\"/>\n",
              "    <path d=\"M18.56 5.44l.94 2.06.94-2.06 2.06-.94-2.06-.94-.94-2.06-.94 2.06-2.06.94zm-11 1L8.5 8.5l.94-2.06 2.06-.94-2.06-.94L8.5 2.5l-.94 2.06-2.06.94zm10 10l.94 2.06.94-2.06 2.06-.94-2.06-.94-.94-2.06-.94 2.06-2.06.94z\"/><path d=\"M17.41 7.96l-1.37-1.37c-.4-.4-.92-.59-1.43-.59-.52 0-1.04.2-1.43.59L10.3 9.45l-7.72 7.72c-.78.78-.78 2.05 0 2.83L4 21.41c.39.39.9.59 1.41.59.51 0 1.02-.2 1.41-.59l7.78-7.78 2.81-2.81c.8-.78.8-2.07 0-2.86zM5.41 20L4 18.59l7.72-7.72 1.47 1.35L5.41 20z\"/>\n",
              "  </svg>\n",
              "      </button>\n",
              "      \n",
              "  <style>\n",
              "    .colab-df-container {\n",
              "      display:flex;\n",
              "      flex-wrap:wrap;\n",
              "      gap: 12px;\n",
              "    }\n",
              "\n",
              "    .colab-df-convert {\n",
              "      background-color: #E8F0FE;\n",
              "      border: none;\n",
              "      border-radius: 50%;\n",
              "      cursor: pointer;\n",
              "      display: none;\n",
              "      fill: #1967D2;\n",
              "      height: 32px;\n",
              "      padding: 0 0 0 0;\n",
              "      width: 32px;\n",
              "    }\n",
              "\n",
              "    .colab-df-convert:hover {\n",
              "      background-color: #E2EBFA;\n",
              "      box-shadow: 0px 1px 2px rgba(60, 64, 67, 0.3), 0px 1px 3px 1px rgba(60, 64, 67, 0.15);\n",
              "      fill: #174EA6;\n",
              "    }\n",
              "\n",
              "    [theme=dark] .colab-df-convert {\n",
              "      background-color: #3B4455;\n",
              "      fill: #D2E3FC;\n",
              "    }\n",
              "\n",
              "    [theme=dark] .colab-df-convert:hover {\n",
              "      background-color: #434B5C;\n",
              "      box-shadow: 0px 1px 3px 1px rgba(0, 0, 0, 0.15);\n",
              "      filter: drop-shadow(0px 1px 2px rgba(0, 0, 0, 0.3));\n",
              "      fill: #FFFFFF;\n",
              "    }\n",
              "  </style>\n",
              "\n",
              "      <script>\n",
              "        const buttonEl =\n",
              "          document.querySelector('#df-da14eb13-279f-4682-a275-b6cb221522f7 button.colab-df-convert');\n",
              "        buttonEl.style.display =\n",
              "          google.colab.kernel.accessAllowed ? 'block' : 'none';\n",
              "\n",
              "        async function convertToInteractive(key) {\n",
              "          const element = document.querySelector('#df-da14eb13-279f-4682-a275-b6cb221522f7');\n",
              "          const dataTable =\n",
              "            await google.colab.kernel.invokeFunction('convertToInteractive',\n",
              "                                                     [key], {});\n",
              "          if (!dataTable) return;\n",
              "\n",
              "          const docLinkHtml = 'Like what you see? Visit the ' +\n",
              "            '<a target=\"_blank\" href=https://colab.research.google.com/notebooks/data_table.ipynb>data table notebook</a>'\n",
              "            + ' to learn more about interactive tables.';\n",
              "          element.innerHTML = '';\n",
              "          dataTable['output_type'] = 'display_data';\n",
              "          await google.colab.output.renderOutput(dataTable, element);\n",
              "          const docLink = document.createElement('div');\n",
              "          docLink.innerHTML = docLinkHtml;\n",
              "          element.appendChild(docLink);\n",
              "        }\n",
              "      </script>\n",
              "    </div>\n",
              "  </div>\n",
              "  "
            ]
          },
          "metadata": {},
          "execution_count": 74
        }
      ]
    },
    {
      "cell_type": "markdown",
      "source": [
        "Finally, let's check if the values in attack, defence and hp columns are adequate. It means the numbers must encrease every time."
      ],
      "metadata": {
        "id": "Fk1Ye1k-pXTC"
      }
    },
    {
      "cell_type": "code",
      "source": [
        "%%time\n",
        "\n",
        "df['hp_check'] = np.where(df['hp_1_20'] < df['hp_20_20'],\n",
        "                 np.where(df['hp_20_40'] < df['hp_40_40'],\n",
        "                 np.where(df['hp_40_50'] < df['hp_50_50'],\n",
        "                 np.where(df['hp_50_60'] < df['hp_60_60'],\n",
        "                 np.where(df['hp_60_70'] < df['hp_70_70'],\n",
        "                 np.where(df['hp_70_80'] < df['hp_80_80'],\n",
        "                 np.where(df['hp_80_90'] < df['hp_90_90'], np.nan,\n",
        "df['hp_80_90']),\n",
        "df['hp_70_80']),\n",
        "df['hp_60_70']),\n",
        "df['hp_50_60']),\n",
        "df['hp_40_50']),\n",
        "df['hp_20_40']),\n",
        "df['hp_1_20'])"
      ],
      "metadata": {
        "colab": {
          "base_uri": "https://localhost:8080/"
        },
        "id": "ez_1asyYo-w3",
        "outputId": "c4732f7c-0c45-48de-9b09-617062e47f84"
      },
      "execution_count": null,
      "outputs": [
        {
          "output_type": "stream",
          "name": "stdout",
          "text": [
            "CPU times: user 2.67 ms, sys: 0 ns, total: 2.67 ms\n",
            "Wall time: 2.69 ms\n"
          ]
        }
      ]
    },
    {
      "cell_type": "code",
      "source": [
        "atk = list(df.filter(regex='atk_'))"
      ],
      "metadata": {
        "id": "YVTNzClIgLIT"
      },
      "execution_count": null,
      "outputs": []
    },
    {
      "cell_type": "code",
      "source": [
        "%%time\n",
        "\n",
        "df.loc[:, atk].apply(lambda x: x.is_monotonic_decreasing, axis=1)"
      ],
      "metadata": {
        "colab": {
          "base_uri": "https://localhost:8080/"
        },
        "id": "pARFOmmZUXnZ",
        "outputId": "3185edb1-3f31-4b6b-a35d-377645f95441"
      },
      "execution_count": null,
      "outputs": [
        {
          "output_type": "stream",
          "name": "stdout",
          "text": [
            "CPU times: user 7.58 ms, sys: 0 ns, total: 7.58 ms\n",
            "Wall time: 8.31 ms\n"
          ]
        },
        {
          "output_type": "execute_result",
          "data": {
            "text/plain": [
              "0      True\n",
              "3      True\n",
              "4      True\n",
              "6      True\n",
              "7      True\n",
              "8      True\n",
              "9      True\n",
              "15     True\n",
              "16     True\n",
              "18     True\n",
              "19     True\n",
              "20     True\n",
              "21     True\n",
              "22     True\n",
              "23     True\n",
              "24     True\n",
              "25     True\n",
              "26     True\n",
              "27     True\n",
              "28     True\n",
              "29     True\n",
              "30     True\n",
              "32     True\n",
              "33     True\n",
              "36     True\n",
              "37     True\n",
              "38     True\n",
              "39     True\n",
              "40     True\n",
              "41     True\n",
              "42     True\n",
              "43     True\n",
              "45    False\n",
              "46     True\n",
              "47     True\n",
              "48     True\n",
              "49     True\n",
              "53     True\n",
              "54     True\n",
              "55     True\n",
              "56     True\n",
              "57     True\n",
              "58     True\n",
              "59     True\n",
              "61     True\n",
              "62     True\n",
              "63     True\n",
              "64     True\n",
              "dtype: bool"
            ]
          },
          "metadata": {},
          "execution_count": 91
        }
      ]
    },
    {
      "cell_type": "code",
      "source": [
        "selected_rows = df[~df['hp_check'].isna()]\n",
        "selected_rows[['character_name','hp_check']]"
      ],
      "metadata": {
        "colab": {
          "base_uri": "https://localhost:8080/",
          "height": 143
        },
        "id": "WuVexvv3Rd1v",
        "outputId": "86d2e1cd-66c3-4f0d-e976-acf7ccd1c863"
      },
      "execution_count": null,
      "outputs": [
        {
          "output_type": "execute_result",
          "data": {
            "text/plain": [
              "    character_name  hp_check\n",
              "27  Kamisato Ayato    6165.0\n",
              "45          Shenhe   21080.0\n",
              "62         Yoimiya    6899.0"
            ],
            "text/html": [
              "\n",
              "  <div id=\"df-f1c3d57e-88f2-4831-8e7e-148f68a465e1\">\n",
              "    <div class=\"colab-df-container\">\n",
              "      <div>\n",
              "<style scoped>\n",
              "    .dataframe tbody tr th:only-of-type {\n",
              "        vertical-align: middle;\n",
              "    }\n",
              "\n",
              "    .dataframe tbody tr th {\n",
              "        vertical-align: top;\n",
              "    }\n",
              "\n",
              "    .dataframe thead th {\n",
              "        text-align: right;\n",
              "    }\n",
              "</style>\n",
              "<table border=\"1\" class=\"dataframe\">\n",
              "  <thead>\n",
              "    <tr style=\"text-align: right;\">\n",
              "      <th></th>\n",
              "      <th>character_name</th>\n",
              "      <th>hp_check</th>\n",
              "    </tr>\n",
              "  </thead>\n",
              "  <tbody>\n",
              "    <tr>\n",
              "      <th>27</th>\n",
              "      <td>Kamisato Ayato</td>\n",
              "      <td>6165.0</td>\n",
              "    </tr>\n",
              "    <tr>\n",
              "      <th>45</th>\n",
              "      <td>Shenhe</td>\n",
              "      <td>21080.0</td>\n",
              "    </tr>\n",
              "    <tr>\n",
              "      <th>62</th>\n",
              "      <td>Yoimiya</td>\n",
              "      <td>6899.0</td>\n",
              "    </tr>\n",
              "  </tbody>\n",
              "</table>\n",
              "</div>\n",
              "      <button class=\"colab-df-convert\" onclick=\"convertToInteractive('df-f1c3d57e-88f2-4831-8e7e-148f68a465e1')\"\n",
              "              title=\"Convert this dataframe to an interactive table.\"\n",
              "              style=\"display:none;\">\n",
              "        \n",
              "  <svg xmlns=\"http://www.w3.org/2000/svg\" height=\"24px\"viewBox=\"0 0 24 24\"\n",
              "       width=\"24px\">\n",
              "    <path d=\"M0 0h24v24H0V0z\" fill=\"none\"/>\n",
              "    <path d=\"M18.56 5.44l.94 2.06.94-2.06 2.06-.94-2.06-.94-.94-2.06-.94 2.06-2.06.94zm-11 1L8.5 8.5l.94-2.06 2.06-.94-2.06-.94L8.5 2.5l-.94 2.06-2.06.94zm10 10l.94 2.06.94-2.06 2.06-.94-2.06-.94-.94-2.06-.94 2.06-2.06.94z\"/><path d=\"M17.41 7.96l-1.37-1.37c-.4-.4-.92-.59-1.43-.59-.52 0-1.04.2-1.43.59L10.3 9.45l-7.72 7.72c-.78.78-.78 2.05 0 2.83L4 21.41c.39.39.9.59 1.41.59.51 0 1.02-.2 1.41-.59l7.78-7.78 2.81-2.81c.8-.78.8-2.07 0-2.86zM5.41 20L4 18.59l7.72-7.72 1.47 1.35L5.41 20z\"/>\n",
              "  </svg>\n",
              "      </button>\n",
              "      \n",
              "  <style>\n",
              "    .colab-df-container {\n",
              "      display:flex;\n",
              "      flex-wrap:wrap;\n",
              "      gap: 12px;\n",
              "    }\n",
              "\n",
              "    .colab-df-convert {\n",
              "      background-color: #E8F0FE;\n",
              "      border: none;\n",
              "      border-radius: 50%;\n",
              "      cursor: pointer;\n",
              "      display: none;\n",
              "      fill: #1967D2;\n",
              "      height: 32px;\n",
              "      padding: 0 0 0 0;\n",
              "      width: 32px;\n",
              "    }\n",
              "\n",
              "    .colab-df-convert:hover {\n",
              "      background-color: #E2EBFA;\n",
              "      box-shadow: 0px 1px 2px rgba(60, 64, 67, 0.3), 0px 1px 3px 1px rgba(60, 64, 67, 0.15);\n",
              "      fill: #174EA6;\n",
              "    }\n",
              "\n",
              "    [theme=dark] .colab-df-convert {\n",
              "      background-color: #3B4455;\n",
              "      fill: #D2E3FC;\n",
              "    }\n",
              "\n",
              "    [theme=dark] .colab-df-convert:hover {\n",
              "      background-color: #434B5C;\n",
              "      box-shadow: 0px 1px 3px 1px rgba(0, 0, 0, 0.15);\n",
              "      filter: drop-shadow(0px 1px 2px rgba(0, 0, 0, 0.3));\n",
              "      fill: #FFFFFF;\n",
              "    }\n",
              "  </style>\n",
              "\n",
              "      <script>\n",
              "        const buttonEl =\n",
              "          document.querySelector('#df-f1c3d57e-88f2-4831-8e7e-148f68a465e1 button.colab-df-convert');\n",
              "        buttonEl.style.display =\n",
              "          google.colab.kernel.accessAllowed ? 'block' : 'none';\n",
              "\n",
              "        async function convertToInteractive(key) {\n",
              "          const element = document.querySelector('#df-f1c3d57e-88f2-4831-8e7e-148f68a465e1');\n",
              "          const dataTable =\n",
              "            await google.colab.kernel.invokeFunction('convertToInteractive',\n",
              "                                                     [key], {});\n",
              "          if (!dataTable) return;\n",
              "\n",
              "          const docLinkHtml = 'Like what you see? Visit the ' +\n",
              "            '<a target=\"_blank\" href=https://colab.research.google.com/notebooks/data_table.ipynb>data table notebook</a>'\n",
              "            + ' to learn more about interactive tables.';\n",
              "          element.innerHTML = '';\n",
              "          dataTable['output_type'] = 'display_data';\n",
              "          await google.colab.output.renderOutput(dataTable, element);\n",
              "          const docLink = document.createElement('div');\n",
              "          docLink.innerHTML = docLinkHtml;\n",
              "          element.appendChild(docLink);\n",
              "        }\n",
              "      </script>\n",
              "    </div>\n",
              "  </div>\n",
              "  "
            ]
          },
          "metadata": {},
          "execution_count": 47
        }
      ]
    },
    {
      "cell_type": "code",
      "source": [
        "df['hp_check'].'21080'.find"
      ],
      "metadata": {
        "colab": {
          "base_uri": "https://localhost:8080/",
          "height": 130
        },
        "id": "uGhWqyNVC4wQ",
        "outputId": "10fcd272-fa06-4bdb-a230-53d50f60374a"
      },
      "execution_count": null,
      "outputs": [
        {
          "output_type": "error",
          "ename": "SyntaxError",
          "evalue": "ignored",
          "traceback": [
            "\u001b[0;36m  File \u001b[0;32m\"<ipython-input-19-a3696de89f08>\"\u001b[0;36m, line \u001b[0;32m1\u001b[0m\n\u001b[0;31m    df['hp_check'].'21080'.find\u001b[0m\n\u001b[0m                         ^\u001b[0m\n\u001b[0;31mSyntaxError\u001b[0m\u001b[0;31m:\u001b[0m invalid syntax\n"
          ]
        }
      ]
    },
    {
      "cell_type": "code",
      "source": [
        "%%time\n",
        "\n",
        "hp=list(df.filter(regex='hp_'))\n",
        "for i in range(len(hp)):\n",
        "  if (i%2==0):\n",
        "    np.where(df[hp[i]] > df[hp[i+1]], 'ok', np.nan)"
      ],
      "metadata": {
        "id": "hPzx0GmM4KGC"
      },
      "execution_count": null,
      "outputs": []
    },
    {
      "cell_type": "markdown",
      "source": [
        "Now we are ready to analyse our dataset. ✨"
      ],
      "metadata": {
        "id": "Vq4EOpqKwOcz"
      }
    },
    {
      "cell_type": "code",
      "source": [
        "from matplotlib import pyplot as plt\n",
        "df.loc[df['rarity']==4][['atk_1_20', 'atk_20_20', \n",
        "                         'atk_20_40', 'atk_40_40']].plot(title=\"test\")\n",
        "\n",
        "# Rotate the x-labels by 30 degrees, and keep the text aligned horizontally\n",
        "plt.xticks(rotation=30, horizontalalignment=\"center\")\n",
        "plt.title(\"Attack on lvl 1\")\n",
        "plt.xlabel(\"Character\")\n",
        "plt.ylabel(\"Attack lvl\")"
      ],
      "metadata": {
        "id": "C__IC8eB2DEa"
      },
      "execution_count": null,
      "outputs": []
    },
    {
      "cell_type": "code",
      "source": [
        "df['atk_1_20'].head(22).plot(kind='barh')"
      ],
      "metadata": {
        "id": "sCGD5d2Q5gjK"
      },
      "execution_count": null,
      "outputs": []
    },
    {
      "cell_type": "code",
      "source": [
        "print(df.max(numeric_only=True))"
      ],
      "metadata": {
        "id": "97gqhFEbGuvy"
      },
      "execution_count": null,
      "outputs": []
    },
    {
      "cell_type": "code",
      "source": [
        "df['hp_80_90'].idxmax()"
      ],
      "metadata": {
        "id": "rH4KfRhf9qFN"
      },
      "execution_count": null,
      "outputs": []
    },
    {
      "cell_type": "code",
      "source": [
        "df['hp_80_90'][45]=12080.0"
      ],
      "metadata": {
        "id": "E3yZiNLN5279"
      },
      "execution_count": null,
      "outputs": []
    },
    {
      "cell_type": "code",
      "source": [
        "df[df.eq(\"21080.0\").any(1)]"
      ],
      "metadata": {
        "id": "JY1L3bSH6J1Y"
      },
      "execution_count": null,
      "outputs": []
    },
    {
      "cell_type": "code",
      "source": [
        ""
      ],
      "metadata": {
        "id": "RVntWPgn-SA9"
      },
      "execution_count": null,
      "outputs": []
    }
  ]
}